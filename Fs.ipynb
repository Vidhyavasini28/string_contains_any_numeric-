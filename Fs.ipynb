{
 "cells": [
  {
   "cell_type": "code",
   "execution_count": 1,
   "id": "61370dca-01bb-4fba-bd45-5ae0f1658743",
   "metadata": {},
   "outputs": [
    {
     "name": "stdin",
     "output_type": "stream",
     "text": [
      "Enter string: ab1cd12\n"
     ]
    },
    {
     "name": "stdout",
     "output_type": "stream",
     "text": [
      "The string contains Integer\n"
     ]
    }
   ],
   "source": [
    "a=str(input(\"Enter string:\"))\n",
    "s=len(a)\n",
    "n=\"1234567890\"\n",
    "c=0\n",
    "i=0\n",
    "while i<s:\n",
    "    if (a[i] in n):\n",
    "        c=c+1\n",
    "    i=i+1  \n",
    "print(\"The string contains Integer\")\n",
    "             "
   ]
  },
  {
   "cell_type": "code",
   "execution_count": null,
   "id": "54f3b3fc-e76f-4733-a1e9-6466cbf9a310",
   "metadata": {},
   "outputs": [],
   "source": []
  }
 ],
 "metadata": {
  "kernelspec": {
   "display_name": "Python 3 (ipykernel)",
   "language": "python",
   "name": "python3"
  },
  "language_info": {
   "codemirror_mode": {
    "name": "ipython",
    "version": 3
   },
   "file_extension": ".py",
   "mimetype": "text/x-python",
   "name": "python",
   "nbconvert_exporter": "python",
   "pygments_lexer": "ipython3",
   "version": "3.11.7"
  }
 },
 "nbformat": 4,
 "nbformat_minor": 5
}
